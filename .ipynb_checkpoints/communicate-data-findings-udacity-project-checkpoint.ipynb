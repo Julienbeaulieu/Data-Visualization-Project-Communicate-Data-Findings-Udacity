{
 "cells": [
  {
   "cell_type": "code",
   "execution_count": 1,
   "metadata": {},
   "outputs": [],
   "source": [
    "# import all packages and set plots to be embedded inline\n",
    "import numpy as np\n",
    "import pandas as pd\n",
    "import matplotlib.pyplot as plt\n",
    "import seaborn as sb\n",
    "\n",
    "%matplotlib inline"
   ]
  },
  {
   "cell_type": "code",
   "execution_count": 22,
   "metadata": {},
   "outputs": [
    {
     "name": "stdout",
     "output_type": "stream",
     "text": [
      "(113937, 11)\n",
      "<class 'pandas.core.frame.DataFrame'>\n",
      "RangeIndex: 113937 entries, 0 to 113936\n",
      "Data columns (total 11 columns):\n",
      "ListingKey               113937 non-null object\n",
      "ListingCreationDate      113937 non-null object\n",
      "Term                     113937 non-null int64\n",
      "LoanStatus               113937 non-null object\n",
      "BorrowerAPR              113912 non-null float64\n",
      "LenderYield              113937 non-null float64\n",
      "EmploymentStatus         111682 non-null object\n",
      "IsBorrowerHomeowner      113937 non-null bool\n",
      "CreditScoreRangeLower    113346 non-null float64\n",
      "IncomeRange              113937 non-null object\n",
      "MonthlyLoanPayment       113937 non-null float64\n",
      "dtypes: bool(1), float64(4), int64(1), object(5)\n",
      "memory usage: 8.8+ MB\n",
      "None\n"
     ]
    }
   ],
   "source": [
    "# load in the dataset into a pandas dataframe, print statistics\n",
    "df = pd.read_csv('prosperLoanData.csv')\n",
    "\n",
    "# Simplify the dataframe to only include relevant columns for this analysis\n",
    "df2 = df[['ListingKey', 'ListingCreationDate', 'Term', 'LoanStatus', 'BorrowerAPR', 'LenderYield', 'EmploymentStatus', 'IsBorrowerHomeowner', 'CreditScoreRangeLower', 'IncomeRange', 'MonthlyLoanPayment']]\n",
    "\n",
    "# high-level overview of data shape and composition\n",
    "print(df2.shape)\n",
    "print(df2.info())"
   ]
  },
  {
   "cell_type": "code",
   "execution_count": 23,
   "metadata": {},
   "outputs": [
    {
     "data": {
      "text/html": [
       "<div>\n",
       "<style scoped>\n",
       "    .dataframe tbody tr th:only-of-type {\n",
       "        vertical-align: middle;\n",
       "    }\n",
       "\n",
       "    .dataframe tbody tr th {\n",
       "        vertical-align: top;\n",
       "    }\n",
       "\n",
       "    .dataframe thead th {\n",
       "        text-align: right;\n",
       "    }\n",
       "</style>\n",
       "<table border=\"1\" class=\"dataframe\">\n",
       "  <thead>\n",
       "    <tr style=\"text-align: right;\">\n",
       "      <th></th>\n",
       "      <th>ListingKey</th>\n",
       "      <th>ListingCreationDate</th>\n",
       "      <th>Term</th>\n",
       "      <th>LoanStatus</th>\n",
       "      <th>BorrowerAPR</th>\n",
       "      <th>LenderYield</th>\n",
       "      <th>EmploymentStatus</th>\n",
       "      <th>IsBorrowerHomeowner</th>\n",
       "      <th>CreditScoreRangeLower</th>\n",
       "      <th>IncomeRange</th>\n",
       "      <th>MonthlyLoanPayment</th>\n",
       "    </tr>\n",
       "  </thead>\n",
       "  <tbody>\n",
       "    <tr>\n",
       "      <th>0</th>\n",
       "      <td>1021339766868145413AB3B</td>\n",
       "      <td>2007-08-26 19:09:29.263000000</td>\n",
       "      <td>36</td>\n",
       "      <td>Completed</td>\n",
       "      <td>0.16516</td>\n",
       "      <td>0.1380</td>\n",
       "      <td>Self-employed</td>\n",
       "      <td>True</td>\n",
       "      <td>640.0</td>\n",
       "      <td>$25,000-49,999</td>\n",
       "      <td>330.43</td>\n",
       "    </tr>\n",
       "    <tr>\n",
       "      <th>1</th>\n",
       "      <td>10273602499503308B223C1</td>\n",
       "      <td>2014-02-27 08:28:07.900000000</td>\n",
       "      <td>36</td>\n",
       "      <td>Current</td>\n",
       "      <td>0.12016</td>\n",
       "      <td>0.0820</td>\n",
       "      <td>Employed</td>\n",
       "      <td>False</td>\n",
       "      <td>680.0</td>\n",
       "      <td>$50,000-74,999</td>\n",
       "      <td>318.93</td>\n",
       "    </tr>\n",
       "    <tr>\n",
       "      <th>2</th>\n",
       "      <td>0EE9337825851032864889A</td>\n",
       "      <td>2007-01-05 15:00:47.090000000</td>\n",
       "      <td>36</td>\n",
       "      <td>Completed</td>\n",
       "      <td>0.28269</td>\n",
       "      <td>0.2400</td>\n",
       "      <td>Not available</td>\n",
       "      <td>False</td>\n",
       "      <td>480.0</td>\n",
       "      <td>Not displayed</td>\n",
       "      <td>123.32</td>\n",
       "    </tr>\n",
       "    <tr>\n",
       "      <th>3</th>\n",
       "      <td>0EF5356002482715299901A</td>\n",
       "      <td>2012-10-22 11:02:35.010000000</td>\n",
       "      <td>36</td>\n",
       "      <td>Current</td>\n",
       "      <td>0.12528</td>\n",
       "      <td>0.0874</td>\n",
       "      <td>Employed</td>\n",
       "      <td>True</td>\n",
       "      <td>800.0</td>\n",
       "      <td>$25,000-49,999</td>\n",
       "      <td>321.45</td>\n",
       "    </tr>\n",
       "    <tr>\n",
       "      <th>4</th>\n",
       "      <td>0F023589499656230C5E3E2</td>\n",
       "      <td>2013-09-14 18:38:39.097000000</td>\n",
       "      <td>36</td>\n",
       "      <td>Current</td>\n",
       "      <td>0.24614</td>\n",
       "      <td>0.1985</td>\n",
       "      <td>Employed</td>\n",
       "      <td>True</td>\n",
       "      <td>680.0</td>\n",
       "      <td>$100,000+</td>\n",
       "      <td>563.97</td>\n",
       "    </tr>\n",
       "  </tbody>\n",
       "</table>\n",
       "</div>"
      ],
      "text/plain": [
       "                ListingKey            ListingCreationDate  Term LoanStatus  \\\n",
       "0  1021339766868145413AB3B  2007-08-26 19:09:29.263000000    36  Completed   \n",
       "1  10273602499503308B223C1  2014-02-27 08:28:07.900000000    36    Current   \n",
       "2  0EE9337825851032864889A  2007-01-05 15:00:47.090000000    36  Completed   \n",
       "3  0EF5356002482715299901A  2012-10-22 11:02:35.010000000    36    Current   \n",
       "4  0F023589499656230C5E3E2  2013-09-14 18:38:39.097000000    36    Current   \n",
       "\n",
       "   BorrowerAPR  LenderYield EmploymentStatus  IsBorrowerHomeowner  \\\n",
       "0      0.16516       0.1380    Self-employed                 True   \n",
       "1      0.12016       0.0820         Employed                False   \n",
       "2      0.28269       0.2400    Not available                False   \n",
       "3      0.12528       0.0874         Employed                 True   \n",
       "4      0.24614       0.1985         Employed                 True   \n",
       "\n",
       "   CreditScoreRangeLower     IncomeRange  MonthlyLoanPayment  \n",
       "0                  640.0  $25,000-49,999              330.43  \n",
       "1                  680.0  $50,000-74,999              318.93  \n",
       "2                  480.0   Not displayed              123.32  \n",
       "3                  800.0  $25,000-49,999              321.45  \n",
       "4                  680.0       $100,000+              563.97  "
      ]
     },
     "execution_count": 23,
     "metadata": {},
     "output_type": "execute_result"
    }
   ],
   "source": [
    "df2.head()"
   ]
  },
  {
   "cell_type": "code",
   "execution_count": 27,
   "metadata": {},
   "outputs": [
    {
     "name": "stderr",
     "output_type": "stream",
     "text": [
      "C:\\Users\\nasty\\Anaconda3\\lib\\site-packages\\ipykernel_launcher.py:10: SettingWithCopyWarning: \n",
      "A value is trying to be set on a copy of a slice from a DataFrame.\n",
      "Try using .loc[row_indexer,col_indexer] = value instead\n",
      "\n",
      "See the caveats in the documentation: http://pandas.pydata.org/pandas-docs/stable/indexing.html#indexing-view-versus-copy\n",
      "  # Remove the CWD from sys.path while we load stuff.\n"
     ]
    },
    {
     "data": {
      "text/html": [
       "<div>\n",
       "<style scoped>\n",
       "    .dataframe tbody tr th:only-of-type {\n",
       "        vertical-align: middle;\n",
       "    }\n",
       "\n",
       "    .dataframe tbody tr th {\n",
       "        vertical-align: top;\n",
       "    }\n",
       "\n",
       "    .dataframe thead th {\n",
       "        text-align: right;\n",
       "    }\n",
       "</style>\n",
       "<table border=\"1\" class=\"dataframe\">\n",
       "  <thead>\n",
       "    <tr style=\"text-align: right;\">\n",
       "      <th></th>\n",
       "      <th>ListingKey</th>\n",
       "      <th>ListingCreationDate</th>\n",
       "      <th>Term</th>\n",
       "      <th>LoanStatus</th>\n",
       "      <th>BorrowerAPR</th>\n",
       "      <th>LenderYield</th>\n",
       "      <th>EmploymentStatus</th>\n",
       "      <th>IsBorrowerHomeowner</th>\n",
       "      <th>CreditScoreRangeLower</th>\n",
       "      <th>IncomeRange</th>\n",
       "      <th>MonthlyLoanPayment</th>\n",
       "      <th>CreditScore</th>\n",
       "    </tr>\n",
       "  </thead>\n",
       "  <tbody>\n",
       "    <tr>\n",
       "      <th>10183</th>\n",
       "      <td>85A13566832011842E4AC17</td>\n",
       "      <td>2012-12-31 06:43:57.137000000</td>\n",
       "      <td>36</td>\n",
       "      <td>Completed</td>\n",
       "      <td>0.14348</td>\n",
       "      <td>0.1053</td>\n",
       "      <td>Employed</td>\n",
       "      <td>True</td>\n",
       "      <td>680.0</td>\n",
       "      <td>$100,000+</td>\n",
       "      <td>412.38</td>\n",
       "      <td>Good</td>\n",
       "    </tr>\n",
       "    <tr>\n",
       "      <th>100498</th>\n",
       "      <td>AD2635769051047326E07CA</td>\n",
       "      <td>2013-04-19 07:42:52.027000000</td>\n",
       "      <td>36</td>\n",
       "      <td>Current</td>\n",
       "      <td>0.25013</td>\n",
       "      <td>0.2024</td>\n",
       "      <td>Employed</td>\n",
       "      <td>False</td>\n",
       "      <td>640.0</td>\n",
       "      <td>$50,000-74,999</td>\n",
       "      <td>510.28</td>\n",
       "      <td>Fair</td>\n",
       "    </tr>\n",
       "    <tr>\n",
       "      <th>91464</th>\n",
       "      <td>68DA36023629569071F369E</td>\n",
       "      <td>2014-02-03 08:15:04.273000000</td>\n",
       "      <td>36</td>\n",
       "      <td>Current</td>\n",
       "      <td>0.18633</td>\n",
       "      <td>0.1400</td>\n",
       "      <td>Employed</td>\n",
       "      <td>True</td>\n",
       "      <td>720.0</td>\n",
       "      <td>$75,000-99,999</td>\n",
       "      <td>346.65</td>\n",
       "      <td>Good</td>\n",
       "    </tr>\n",
       "    <tr>\n",
       "      <th>69118</th>\n",
       "      <td>DD853571290064484FCD794</td>\n",
       "      <td>2013-02-15 10:13:41.710000000</td>\n",
       "      <td>36</td>\n",
       "      <td>Current</td>\n",
       "      <td>0.18214</td>\n",
       "      <td>0.1359</td>\n",
       "      <td>Employed</td>\n",
       "      <td>True</td>\n",
       "      <td>760.0</td>\n",
       "      <td>$75,000-99,999</td>\n",
       "      <td>103.39</td>\n",
       "      <td>Very Good</td>\n",
       "    </tr>\n",
       "    <tr>\n",
       "      <th>33224</th>\n",
       "      <td>36C835434446596187BE92E</td>\n",
       "      <td>2012-04-14 04:31:31.940000000</td>\n",
       "      <td>36</td>\n",
       "      <td>Current</td>\n",
       "      <td>0.33553</td>\n",
       "      <td>0.2858</td>\n",
       "      <td>Employed</td>\n",
       "      <td>True</td>\n",
       "      <td>660.0</td>\n",
       "      <td>$75,000-99,999</td>\n",
       "      <td>168.89</td>\n",
       "      <td>Fair</td>\n",
       "    </tr>\n",
       "  </tbody>\n",
       "</table>\n",
       "</div>"
      ],
      "text/plain": [
       "                     ListingKey            ListingCreationDate  Term  \\\n",
       "10183   85A13566832011842E4AC17  2012-12-31 06:43:57.137000000    36   \n",
       "100498  AD2635769051047326E07CA  2013-04-19 07:42:52.027000000    36   \n",
       "91464   68DA36023629569071F369E  2014-02-03 08:15:04.273000000    36   \n",
       "69118   DD853571290064484FCD794  2013-02-15 10:13:41.710000000    36   \n",
       "33224   36C835434446596187BE92E  2012-04-14 04:31:31.940000000    36   \n",
       "\n",
       "       LoanStatus  BorrowerAPR  LenderYield EmploymentStatus  \\\n",
       "10183   Completed      0.14348       0.1053         Employed   \n",
       "100498    Current      0.25013       0.2024         Employed   \n",
       "91464     Current      0.18633       0.1400         Employed   \n",
       "69118     Current      0.18214       0.1359         Employed   \n",
       "33224     Current      0.33553       0.2858         Employed   \n",
       "\n",
       "        IsBorrowerHomeowner  CreditScoreRangeLower     IncomeRange  \\\n",
       "10183                  True                  680.0       $100,000+   \n",
       "100498                False                  640.0  $50,000-74,999   \n",
       "91464                  True                  720.0  $75,000-99,999   \n",
       "69118                  True                  760.0  $75,000-99,999   \n",
       "33224                  True                  660.0  $75,000-99,999   \n",
       "\n",
       "        MonthlyLoanPayment CreditScore  \n",
       "10183               412.38        Good  \n",
       "100498              510.28        Fair  \n",
       "91464               346.65        Good  \n",
       "69118               103.39   Very Good  \n",
       "33224               168.89        Fair  "
      ]
     },
     "execution_count": 27,
     "metadata": {},
     "output_type": "execute_result"
    }
   ],
   "source": [
    "# convert Credit Score into ordered categorical values\n",
    "\n",
    "# Bin edges \n",
    "bin_edges = [0, 1, 579, 669, 739, 799, 900] \n",
    "\n",
    "# Labels for our credit scores\n",
    "bin_names = ['None', 'Very Poor', 'Fair', 'Good', 'Very Good', 'Exceptional']\n",
    "\n",
    "# Creates CreditScore column\n",
    "df2['CreditScore'] = pd.cut(df2['CreditScoreRangeLower'], bin_edges, labels=bin_names)\n",
    "\n",
    "# Let's take a randon sample to see if our categories work\n",
    "df2.sample(5)"
   ]
  },
  {
   "cell_type": "code",
   "execution_count": 29,
   "metadata": {},
   "outputs": [
    {
     "data": {
      "text/plain": [
       "$25,000-49,999    32192\n",
       "$50,000-74,999    31050\n",
       "$100,000+         17337\n",
       "$75,000-99,999    16916\n",
       "Not displayed      7741\n",
       "$1-24,999          7274\n",
       "Not employed        806\n",
       "$0                  621\n",
       "Name: IncomeRange, dtype: int64"
      ]
     },
     "execution_count": 29,
     "metadata": {},
     "output_type": "execute_result"
    }
   ],
   "source": [
    "df2.IncomeRange.value_counts()"
   ]
  },
  {
   "cell_type": "code",
   "execution_count": 28,
   "metadata": {},
   "outputs": [
    {
     "name": "stdout",
     "output_type": "stream",
     "text": [
      "[36 60 12]\n",
      "['$25,000-49,999' '$50,000-74,999' 'Not displayed' '$100,000+'\n",
      " '$75,000-99,999' '$1-24,999' 'Not employed' '$0']\n",
      "[Fair, Good, Very Poor, Exceptional, Very Good, NaN]\n",
      "Categories (5, object): [Very Poor < Fair < Good < Very Good < Exceptional]\n"
     ]
    }
   ],
   "source": [
    "print(df2.Term.unique())\n",
    "print(df2.IncomeRange.unique())\n",
    "print(df2.CreditScore.unique())"
   ]
  },
  {
   "cell_type": "code",
   "execution_count": 30,
   "metadata": {},
   "outputs": [
    {
     "name": "stderr",
     "output_type": "stream",
     "text": [
      "C:\\Users\\nasty\\Anaconda3\\lib\\site-packages\\ipykernel_launcher.py:10: SettingWithCopyWarning: \n",
      "A value is trying to be set on a copy of a slice from a DataFrame.\n",
      "Try using .loc[row_indexer,col_indexer] = value instead\n",
      "\n",
      "See the caveats in the documentation: http://pandas.pydata.org/pandas-docs/stable/indexing.html#indexing-view-versus-copy\n",
      "  # Remove the CWD from sys.path while we load stuff.\n"
     ]
    }
   ],
   "source": [
    "# convert Term, IncomeRange, CreditScoreRangeLower, into ordered categorical types\n",
    "ordinal_var_dict = {'Term': ['12','36','60'],\n",
    "                    'IncomeRange': ['Not employed', 'Not displayed', '$0', '$1-24,999', '$25,000-49,999', '$50,000-74,999',\n",
    "                                    '$75,000-99,999', '$100,000+'],\n",
    "                    'CreditScore': ['NaN', 'Very Poor', 'Fair', 'Good', 'Very Good', 'Exceptional']}\n",
    "\n",
    "for var in ordinal_var_dict:\n",
    "    ordered_var = pd.api.types.CategoricalDtype(ordered = True,\n",
    "                                                categories = ordinal_var_dict[var])\n",
    "    df2[var] = df2[var].astype(ordered_var)"
   ]
  },
  {
   "cell_type": "markdown",
   "metadata": {},
   "source": []
  },
  {
   "cell_type": "code",
   "execution_count": null,
   "metadata": {},
   "outputs": [],
   "source": []
  },
  {
   "cell_type": "code",
   "execution_count": 20,
   "metadata": {},
   "outputs": [
    {
     "data": {
      "text/plain": [
       "0.0"
      ]
     },
     "execution_count": 20,
     "metadata": {},
     "output_type": "execute_result"
    }
   ],
   "source": [
    "df2.CreditScoreRangeLower.min()"
   ]
  },
  {
   "cell_type": "code",
   "execution_count": 21,
   "metadata": {},
   "outputs": [
    {
     "data": {
      "text/plain": [
       "array(['$25,000-49,999', '$50,000-74,999', 'Not displayed', '$100,000+',\n",
       "       '$75,000-99,999', '$1-24,999', 'Not employed', '$0'], dtype=object)"
      ]
     },
     "execution_count": 21,
     "metadata": {},
     "output_type": "execute_result"
    }
   ],
   "source": [
    "df2.IncomeRange.unique()"
   ]
  },
  {
   "cell_type": "code",
   "execution_count": 9,
   "metadata": {},
   "outputs": [
    {
     "data": {
      "text/plain": [
       "90831"
      ]
     },
     "execution_count": 9,
     "metadata": {},
     "output_type": "execute_result"
    }
   ],
   "source": [
    "df2.MemberKey.nunique()"
   ]
  },
  {
   "cell_type": "code",
   "execution_count": 11,
   "metadata": {},
   "outputs": [
    {
     "data": {
      "text/plain": [
       "113066"
      ]
     },
     "execution_count": 11,
     "metadata": {},
     "output_type": "execute_result"
    }
   ],
   "source": [
    "df2.LoanKey.nunique()"
   ]
  },
  {
   "cell_type": "code",
   "execution_count": 18,
   "metadata": {},
   "outputs": [
    {
     "data": {
      "text/plain": [
       "array(['Other', 'Professional', 'Skilled Labor', 'Executive',\n",
       "       'Sales - Retail', 'Laborer', 'Food Service', 'Fireman',\n",
       "       'Waiter/Waitress', 'Construction', 'Computer Programmer',\n",
       "       'Sales - Commission', 'Retail Management', 'Engineer - Mechanical',\n",
       "       'Military Enlisted', 'Clerical', nan, 'Teacher', 'Clergy',\n",
       "       'Accountant/CPA', 'Attorney', 'Nurse (RN)', 'Analyst',\n",
       "       \"Nurse's Aide\", 'Investor', 'Realtor', 'Flight Attendant',\n",
       "       'Nurse (LPN)', 'Military Officer', 'Food Service Management',\n",
       "       'Truck Driver', 'Administrative Assistant',\n",
       "       'Police Officer/Correction Officer', 'Social Worker',\n",
       "       'Tradesman - Mechanic', 'Medical Technician', 'Professor',\n",
       "       'Postal Service', 'Civil Service', 'Pharmacist',\n",
       "       'Tradesman - Electrician', 'Scientist', 'Dentist',\n",
       "       'Engineer - Electrical', 'Architect', 'Landscaping',\n",
       "       'Tradesman - Carpenter', 'Bus Driver', 'Tradesman - Plumber',\n",
       "       'Engineer - Chemical', 'Doctor', 'Chemist',\n",
       "       'Student - College Senior', 'Principal', \"Teacher's Aide\",\n",
       "       'Pilot - Private/Commercial', 'Religious', 'Homemaker',\n",
       "       'Student - College Graduate Student', 'Student - Technical School',\n",
       "       'Psychologist', 'Biologist', 'Student - College Sophomore',\n",
       "       'Judge', 'Student - College Junior', 'Car Dealer',\n",
       "       'Student - Community College', 'Student - College Freshman'],\n",
       "      dtype=object)"
      ]
     },
     "execution_count": 18,
     "metadata": {},
     "output_type": "execute_result"
    }
   ],
   "source": [
    "df2.Occupation.unique()"
   ]
  },
  {
   "cell_type": "code",
   "execution_count": null,
   "metadata": {},
   "outputs": [],
   "source": []
  }
 ],
 "metadata": {
  "kernelspec": {
   "display_name": "Python 3",
   "language": "python",
   "name": "python3"
  },
  "language_info": {
   "codemirror_mode": {
    "name": "ipython",
    "version": 3
   },
   "file_extension": ".py",
   "mimetype": "text/x-python",
   "name": "python",
   "nbconvert_exporter": "python",
   "pygments_lexer": "ipython3",
   "version": "3.7.3"
  }
 },
 "nbformat": 4,
 "nbformat_minor": 2
}
