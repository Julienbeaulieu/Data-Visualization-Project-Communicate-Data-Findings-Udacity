{
 "cells": [
  {
   "cell_type": "code",
   "execution_count": 1,
   "metadata": {},
   "outputs": [],
   "source": [
    "# import all packages and set plots to be embedded inline\n",
    "import numpy as np\n",
    "import pandas as pd\n",
    "import matplotlib.pyplot as plt\n",
    "import seaborn as sb\n",
    "\n",
    "%matplotlib inline"
   ]
  },
  {
   "cell_type": "code",
   "execution_count": 2,
   "metadata": {},
   "outputs": [
    {
     "name": "stdout",
     "output_type": "stream",
     "text": [
      "(113937, 11)\n",
      "<class 'pandas.core.frame.DataFrame'>\n",
      "RangeIndex: 113937 entries, 0 to 113936\n",
      "Data columns (total 11 columns):\n",
      "ListingKey               113937 non-null object\n",
      "ListingCreationDate      113937 non-null object\n",
      "Term                     113937 non-null int64\n",
      "LoanStatus               113937 non-null object\n",
      "BorrowerAPR              113912 non-null float64\n",
      "LenderYield              113937 non-null float64\n",
      "EmploymentStatus         111682 non-null object\n",
      "IsBorrowerHomeowner      113937 non-null bool\n",
      "CreditScoreRangeLower    113346 non-null float64\n",
      "IncomeRange              113937 non-null object\n",
      "MonthlyLoanPayment       113937 non-null float64\n",
      "dtypes: bool(1), float64(4), int64(1), object(5)\n",
      "memory usage: 8.8+ MB\n",
      "None\n"
     ]
    }
   ],
   "source": [
    "# load in the dataset into a pandas dataframe, print statistics\n",
    "df = pd.read_csv('prosperLoanData.csv')\n",
    "\n",
    "# Simplify the dataframe to only include relevant columns for this analysis\n",
    "df2 = df[['ListingKey', 'ListingCreationDate', 'Term', 'LoanStatus', 'BorrowerAPR', 'LenderYield', 'EmploymentStatus', 'IsBorrowerHomeowner', 'CreditScoreRangeLower', 'IncomeRange', 'MonthlyLoanPayment']]\n",
    "\n",
    "# high-level overview of data shape and composition\n",
    "print(df2.shape)\n",
    "print(df2.info())"
   ]
  },
  {
   "cell_type": "code",
   "execution_count": 3,
   "metadata": {},
   "outputs": [
    {
     "data": {
      "text/html": [
       "<div>\n",
       "<style scoped>\n",
       "    .dataframe tbody tr th:only-of-type {\n",
       "        vertical-align: middle;\n",
       "    }\n",
       "\n",
       "    .dataframe tbody tr th {\n",
       "        vertical-align: top;\n",
       "    }\n",
       "\n",
       "    .dataframe thead th {\n",
       "        text-align: right;\n",
       "    }\n",
       "</style>\n",
       "<table border=\"1\" class=\"dataframe\">\n",
       "  <thead>\n",
       "    <tr style=\"text-align: right;\">\n",
       "      <th></th>\n",
       "      <th>ListingKey</th>\n",
       "      <th>ListingCreationDate</th>\n",
       "      <th>Term</th>\n",
       "      <th>LoanStatus</th>\n",
       "      <th>BorrowerAPR</th>\n",
       "      <th>LenderYield</th>\n",
       "      <th>EmploymentStatus</th>\n",
       "      <th>IsBorrowerHomeowner</th>\n",
       "      <th>CreditScoreRangeLower</th>\n",
       "      <th>IncomeRange</th>\n",
       "      <th>MonthlyLoanPayment</th>\n",
       "    </tr>\n",
       "  </thead>\n",
       "  <tbody>\n",
       "    <tr>\n",
       "      <th>0</th>\n",
       "      <td>1021339766868145413AB3B</td>\n",
       "      <td>2007-08-26 19:09:29.263000000</td>\n",
       "      <td>36</td>\n",
       "      <td>Completed</td>\n",
       "      <td>0.16516</td>\n",
       "      <td>0.1380</td>\n",
       "      <td>Self-employed</td>\n",
       "      <td>True</td>\n",
       "      <td>640.0</td>\n",
       "      <td>$25,000-49,999</td>\n",
       "      <td>330.43</td>\n",
       "    </tr>\n",
       "    <tr>\n",
       "      <th>1</th>\n",
       "      <td>10273602499503308B223C1</td>\n",
       "      <td>2014-02-27 08:28:07.900000000</td>\n",
       "      <td>36</td>\n",
       "      <td>Current</td>\n",
       "      <td>0.12016</td>\n",
       "      <td>0.0820</td>\n",
       "      <td>Employed</td>\n",
       "      <td>False</td>\n",
       "      <td>680.0</td>\n",
       "      <td>$50,000-74,999</td>\n",
       "      <td>318.93</td>\n",
       "    </tr>\n",
       "    <tr>\n",
       "      <th>2</th>\n",
       "      <td>0EE9337825851032864889A</td>\n",
       "      <td>2007-01-05 15:00:47.090000000</td>\n",
       "      <td>36</td>\n",
       "      <td>Completed</td>\n",
       "      <td>0.28269</td>\n",
       "      <td>0.2400</td>\n",
       "      <td>Not available</td>\n",
       "      <td>False</td>\n",
       "      <td>480.0</td>\n",
       "      <td>Not displayed</td>\n",
       "      <td>123.32</td>\n",
       "    </tr>\n",
       "    <tr>\n",
       "      <th>3</th>\n",
       "      <td>0EF5356002482715299901A</td>\n",
       "      <td>2012-10-22 11:02:35.010000000</td>\n",
       "      <td>36</td>\n",
       "      <td>Current</td>\n",
       "      <td>0.12528</td>\n",
       "      <td>0.0874</td>\n",
       "      <td>Employed</td>\n",
       "      <td>True</td>\n",
       "      <td>800.0</td>\n",
       "      <td>$25,000-49,999</td>\n",
       "      <td>321.45</td>\n",
       "    </tr>\n",
       "    <tr>\n",
       "      <th>4</th>\n",
       "      <td>0F023589499656230C5E3E2</td>\n",
       "      <td>2013-09-14 18:38:39.097000000</td>\n",
       "      <td>36</td>\n",
       "      <td>Current</td>\n",
       "      <td>0.24614</td>\n",
       "      <td>0.1985</td>\n",
       "      <td>Employed</td>\n",
       "      <td>True</td>\n",
       "      <td>680.0</td>\n",
       "      <td>$100,000+</td>\n",
       "      <td>563.97</td>\n",
       "    </tr>\n",
       "  </tbody>\n",
       "</table>\n",
       "</div>"
      ],
      "text/plain": [
       "                ListingKey            ListingCreationDate  Term LoanStatus  \\\n",
       "0  1021339766868145413AB3B  2007-08-26 19:09:29.263000000    36  Completed   \n",
       "1  10273602499503308B223C1  2014-02-27 08:28:07.900000000    36    Current   \n",
       "2  0EE9337825851032864889A  2007-01-05 15:00:47.090000000    36  Completed   \n",
       "3  0EF5356002482715299901A  2012-10-22 11:02:35.010000000    36    Current   \n",
       "4  0F023589499656230C5E3E2  2013-09-14 18:38:39.097000000    36    Current   \n",
       "\n",
       "   BorrowerAPR  LenderYield EmploymentStatus  IsBorrowerHomeowner  \\\n",
       "0      0.16516       0.1380    Self-employed                 True   \n",
       "1      0.12016       0.0820         Employed                False   \n",
       "2      0.28269       0.2400    Not available                False   \n",
       "3      0.12528       0.0874         Employed                 True   \n",
       "4      0.24614       0.1985         Employed                 True   \n",
       "\n",
       "   CreditScoreRangeLower     IncomeRange  MonthlyLoanPayment  \n",
       "0                  640.0  $25,000-49,999              330.43  \n",
       "1                  680.0  $50,000-74,999              318.93  \n",
       "2                  480.0   Not displayed              123.32  \n",
       "3                  800.0  $25,000-49,999              321.45  \n",
       "4                  680.0       $100,000+              563.97  "
      ]
     },
     "execution_count": 3,
     "metadata": {},
     "output_type": "execute_result"
    }
   ],
   "source": [
    "df2.head()"
   ]
  },
  {
   "cell_type": "code",
   "execution_count": 4,
   "metadata": {},
   "outputs": [
    {
     "name": "stderr",
     "output_type": "stream",
     "text": [
      "C:\\Users\\nasty\\Anaconda3\\lib\\site-packages\\ipykernel_launcher.py:10: SettingWithCopyWarning: \n",
      "A value is trying to be set on a copy of a slice from a DataFrame.\n",
      "Try using .loc[row_indexer,col_indexer] = value instead\n",
      "\n",
      "See the caveats in the documentation: http://pandas.pydata.org/pandas-docs/stable/indexing.html#indexing-view-versus-copy\n",
      "  # Remove the CWD from sys.path while we load stuff.\n"
     ]
    },
    {
     "data": {
      "text/html": [
       "<div>\n",
       "<style scoped>\n",
       "    .dataframe tbody tr th:only-of-type {\n",
       "        vertical-align: middle;\n",
       "    }\n",
       "\n",
       "    .dataframe tbody tr th {\n",
       "        vertical-align: top;\n",
       "    }\n",
       "\n",
       "    .dataframe thead th {\n",
       "        text-align: right;\n",
       "    }\n",
       "</style>\n",
       "<table border=\"1\" class=\"dataframe\">\n",
       "  <thead>\n",
       "    <tr style=\"text-align: right;\">\n",
       "      <th></th>\n",
       "      <th>ListingKey</th>\n",
       "      <th>ListingCreationDate</th>\n",
       "      <th>Term</th>\n",
       "      <th>LoanStatus</th>\n",
       "      <th>BorrowerAPR</th>\n",
       "      <th>LenderYield</th>\n",
       "      <th>EmploymentStatus</th>\n",
       "      <th>IsBorrowerHomeowner</th>\n",
       "      <th>CreditScoreRangeLower</th>\n",
       "      <th>IncomeRange</th>\n",
       "      <th>MonthlyLoanPayment</th>\n",
       "      <th>CreditScore</th>\n",
       "    </tr>\n",
       "  </thead>\n",
       "  <tbody>\n",
       "    <tr>\n",
       "      <th>112293</th>\n",
       "      <td>D167356230914864560A6BA</td>\n",
       "      <td>2012-11-05 14:38:02.643000000</td>\n",
       "      <td>36</td>\n",
       "      <td>Current</td>\n",
       "      <td>0.20462</td>\n",
       "      <td>0.1579</td>\n",
       "      <td>Employed</td>\n",
       "      <td>True</td>\n",
       "      <td>680.0</td>\n",
       "      <td>$100,000+</td>\n",
       "      <td>213.29</td>\n",
       "      <td>Good</td>\n",
       "    </tr>\n",
       "    <tr>\n",
       "      <th>100247</th>\n",
       "      <td>7567351089470403446D624</td>\n",
       "      <td>2011-03-22 16:00:31.593000000</td>\n",
       "      <td>36</td>\n",
       "      <td>Completed</td>\n",
       "      <td>0.35643</td>\n",
       "      <td>0.3099</td>\n",
       "      <td>Employed</td>\n",
       "      <td>True</td>\n",
       "      <td>680.0</td>\n",
       "      <td>$25,000-49,999</td>\n",
       "      <td>174.20</td>\n",
       "      <td>Good</td>\n",
       "    </tr>\n",
       "    <tr>\n",
       "      <th>40810</th>\n",
       "      <td>31823578871937883634794</td>\n",
       "      <td>2013-05-06 14:10:45.057000000</td>\n",
       "      <td>36</td>\n",
       "      <td>Current</td>\n",
       "      <td>0.18214</td>\n",
       "      <td>0.1359</td>\n",
       "      <td>Employed</td>\n",
       "      <td>True</td>\n",
       "      <td>700.0</td>\n",
       "      <td>$50,000-74,999</td>\n",
       "      <td>516.97</td>\n",
       "      <td>Good</td>\n",
       "    </tr>\n",
       "    <tr>\n",
       "      <th>88670</th>\n",
       "      <td>D80436052614502212F6194</td>\n",
       "      <td>2014-03-07 14:12:57.193000000</td>\n",
       "      <td>36</td>\n",
       "      <td>Current</td>\n",
       "      <td>0.22966</td>\n",
       "      <td>0.1820</td>\n",
       "      <td>Employed</td>\n",
       "      <td>False</td>\n",
       "      <td>700.0</td>\n",
       "      <td>$50,000-74,999</td>\n",
       "      <td>551.36</td>\n",
       "      <td>Good</td>\n",
       "    </tr>\n",
       "    <tr>\n",
       "      <th>18071</th>\n",
       "      <td>8B973545889247437DB9A59</td>\n",
       "      <td>2012-04-26 07:27:51.550000000</td>\n",
       "      <td>36</td>\n",
       "      <td>Current</td>\n",
       "      <td>0.33553</td>\n",
       "      <td>0.2858</td>\n",
       "      <td>Employed</td>\n",
       "      <td>False</td>\n",
       "      <td>640.0</td>\n",
       "      <td>$50,000-74,999</td>\n",
       "      <td>168.89</td>\n",
       "      <td>Fair</td>\n",
       "    </tr>\n",
       "  </tbody>\n",
       "</table>\n",
       "</div>"
      ],
      "text/plain": [
       "                     ListingKey            ListingCreationDate  Term  \\\n",
       "112293  D167356230914864560A6BA  2012-11-05 14:38:02.643000000    36   \n",
       "100247  7567351089470403446D624  2011-03-22 16:00:31.593000000    36   \n",
       "40810   31823578871937883634794  2013-05-06 14:10:45.057000000    36   \n",
       "88670   D80436052614502212F6194  2014-03-07 14:12:57.193000000    36   \n",
       "18071   8B973545889247437DB9A59  2012-04-26 07:27:51.550000000    36   \n",
       "\n",
       "       LoanStatus  BorrowerAPR  LenderYield EmploymentStatus  \\\n",
       "112293    Current      0.20462       0.1579         Employed   \n",
       "100247  Completed      0.35643       0.3099         Employed   \n",
       "40810     Current      0.18214       0.1359         Employed   \n",
       "88670     Current      0.22966       0.1820         Employed   \n",
       "18071     Current      0.33553       0.2858         Employed   \n",
       "\n",
       "        IsBorrowerHomeowner  CreditScoreRangeLower     IncomeRange  \\\n",
       "112293                 True                  680.0       $100,000+   \n",
       "100247                 True                  680.0  $25,000-49,999   \n",
       "40810                  True                  700.0  $50,000-74,999   \n",
       "88670                 False                  700.0  $50,000-74,999   \n",
       "18071                 False                  640.0  $50,000-74,999   \n",
       "\n",
       "        MonthlyLoanPayment CreditScore  \n",
       "112293              213.29        Good  \n",
       "100247              174.20        Good  \n",
       "40810               516.97        Good  \n",
       "88670               551.36        Good  \n",
       "18071               168.89        Fair  "
      ]
     },
     "execution_count": 4,
     "metadata": {},
     "output_type": "execute_result"
    }
   ],
   "source": [
    "# convert Credit Score into ordered categorical values\n",
    "\n",
    "# Bin edges \n",
    "bin_edges = [0, 1, 579, 669, 739, 799, 900] \n",
    "\n",
    "# Labels for our credit scores\n",
    "bin_names = ['None', 'Very Poor', 'Fair', 'Good', 'Very Good', 'Exceptional']\n",
    "\n",
    "# Creates CreditScore column\n",
    "df2['CreditScore'] = pd.cut(df2['CreditScoreRangeLower'], bin_edges, labels=bin_names)\n",
    "\n",
    "# Let's take a randon sample to see if our categories work\n",
    "df2.sample(5)"
   ]
  },
  {
   "cell_type": "code",
   "execution_count": 5,
   "metadata": {},
   "outputs": [
    {
     "data": {
      "text/plain": [
       "$25,000-49,999    32192\n",
       "$50,000-74,999    31050\n",
       "$100,000+         17337\n",
       "$75,000-99,999    16916\n",
       "Not displayed      7741\n",
       "$1-24,999          7274\n",
       "Not employed        806\n",
       "$0                  621\n",
       "Name: IncomeRange, dtype: int64"
      ]
     },
     "execution_count": 5,
     "metadata": {},
     "output_type": "execute_result"
    }
   ],
   "source": [
    "df2.IncomeRange.value_counts()"
   ]
  },
  {
   "cell_type": "code",
   "execution_count": 6,
   "metadata": {},
   "outputs": [
    {
     "name": "stdout",
     "output_type": "stream",
     "text": [
      "[36 60 12]\n",
      "['$25,000-49,999' '$50,000-74,999' 'Not displayed' '$100,000+'\n",
      " '$75,000-99,999' '$1-24,999' 'Not employed' '$0']\n",
      "[Fair, Good, Very Poor, Exceptional, Very Good, NaN]\n",
      "Categories (5, object): [Very Poor < Fair < Good < Very Good < Exceptional]\n"
     ]
    }
   ],
   "source": [
    "print(df2.Term.unique())\n",
    "print(df2.IncomeRange.unique())\n",
    "print(df2.CreditScore.unique())"
   ]
  },
  {
   "cell_type": "code",
   "execution_count": 7,
   "metadata": {},
   "outputs": [
    {
     "name": "stderr",
     "output_type": "stream",
     "text": [
      "C:\\Users\\nasty\\Anaconda3\\lib\\site-packages\\ipykernel_launcher.py:10: SettingWithCopyWarning: \n",
      "A value is trying to be set on a copy of a slice from a DataFrame.\n",
      "Try using .loc[row_indexer,col_indexer] = value instead\n",
      "\n",
      "See the caveats in the documentation: http://pandas.pydata.org/pandas-docs/stable/indexing.html#indexing-view-versus-copy\n",
      "  # Remove the CWD from sys.path while we load stuff.\n"
     ]
    }
   ],
   "source": [
    "# convert Term, IncomeRange, CreditScoreRangeLower, into ordered categorical types\n",
    "ordinal_var_dict = {'Term': [12, 36, 60],\n",
    "                    'IncomeRange': ['Not employed', 'Not displayed', '$0', '$1-24,999', '$25,000-49,999', '$50,000-74,999',\n",
    "                                    '$75,000-99,999', '$100,000+'],\n",
    "                    'CreditScore': ['NaN', 'Very Poor', 'Fair', 'Good', 'Very Good', 'Exceptional']}\n",
    "\n",
    "for var in ordinal_var_dict:\n",
    "    ordered_var = pd.api.types.CategoricalDtype(ordered = True,\n",
    "                                                categories = ordinal_var_dict[var])\n",
    "    df2[var] = df2[var].astype(ordered_var)"
   ]
  },
  {
   "cell_type": "markdown",
   "metadata": {},
   "source": [
    "### Test"
   ]
  },
  {
   "cell_type": "code",
   "execution_count": 8,
   "metadata": {},
   "outputs": [
    {
     "name": "stdout",
     "output_type": "stream",
     "text": [
      "<class 'pandas.core.frame.DataFrame'>\n",
      "RangeIndex: 113937 entries, 0 to 113936\n",
      "Data columns (total 12 columns):\n",
      "ListingKey               113937 non-null object\n",
      "ListingCreationDate      113937 non-null object\n",
      "Term                     113937 non-null category\n",
      "LoanStatus               113937 non-null object\n",
      "BorrowerAPR              113912 non-null float64\n",
      "LenderYield              113937 non-null float64\n",
      "EmploymentStatus         111682 non-null object\n",
      "IsBorrowerHomeowner      113937 non-null bool\n",
      "CreditScoreRangeLower    113346 non-null float64\n",
      "IncomeRange              113937 non-null category\n",
      "MonthlyLoanPayment       113937 non-null float64\n",
      "CreditScore              113213 non-null category\n",
      "dtypes: bool(1), category(3), float64(4), object(4)\n",
      "memory usage: 7.4+ MB\n"
     ]
    }
   ],
   "source": [
    "df2.info()"
   ]
  },
  {
   "cell_type": "markdown",
   "metadata": {},
   "source": [
    "## Univariate Data Analysis"
   ]
  },
  {
   "cell_type": "markdown",
   "metadata": {},
   "source": [
    "### Quantitative Variables"
   ]
  },
  {
   "cell_type": "markdown",
   "metadata": {},
   "source": [
    "#### Borrower APR"
   ]
  },
  {
   "cell_type": "code",
   "execution_count": 9,
   "metadata": {},
   "outputs": [
    {
     "data": {
      "text/plain": [
       "Text(0.5, 0, 'Borrower APR')"
      ]
     },
     "execution_count": 9,
     "metadata": {},
     "output_type": "execute_result"
    },
    {
     "data": {
      "image/png": "[encoded data removed]",
      "text/plain": [
       "<Figure size 576x360 with 1 Axes>"
      ]
     },
     "metadata": {
      "needs_background": "light"
     },
     "output_type": "display_data"
    }
   ],
   "source": [
    "binsize = 0.005\n",
    "bins = np.arange(0, df2.BorrowerAPR.max()+binsize, binsize)\n",
    "\n",
    "plt.figure(figsize=[8, 5])\n",
    "plt.hist(data = df2, x= 'BorrowerAPR', bins = bins);\n",
    "plt.xlabel('Borrower APR')"
   ]
  },
  {
   "cell_type": "markdown",
   "metadata": {},
   "source": [
    "#### LenderYield"
   ]
  },
  {
   "cell_type": "code",
   "execution_count": 10,
   "metadata": {},
   "outputs": [
    {
     "data": {
      "text/plain": [
       "Text(0.5, 0, 'Lender Yield')"
      ]
     },
     "execution_count": 10,
     "metadata": {},
     "output_type": "execute_result"
    },
    {
     "data": {
      "image/png": "[encoded data removed]",
      "text/plain": [
       "<Figure size 576x360 with 1 Axes>"
      ]
     },
     "metadata": {
      "needs_background": "light"
     },
     "output_type": "display_data"
    }
   ],
   "source": [
    "binsize = 0.005\n",
    "bins = np.arange(0, df2.LenderYield.max()+binsize, binsize)\n",
    "\n",
    "plt.figure(figsize=[8, 5])\n",
    "plt.hist(data = df2, x= 'LenderYield', bins = bins);\n",
    "plt.xlabel('Lender Yield')"
   ]
  },
  {
   "cell_type": "markdown",
   "metadata": {},
   "source": [
    "#### Monthly Loan Payment"
   ]
  },
  {
   "cell_type": "code",
   "execution_count": 11,
   "metadata": {},
   "outputs": [
    {
     "data": {
      "text/plain": [
       "Text(0.5, 0, 'Monthly Loan Payment')"
      ]
     },
     "execution_count": 11,
     "metadata": {},
     "output_type": "execute_result"
    },
    {
     "data": {
      "image/png": "[encoded data removed]",
      "text/plain": [
       "<Figure size 576x360 with 1 Axes>"
      ]
     },
     "metadata": {
      "needs_background": "light"
     },
     "output_type": "display_data"
    }
   ],
   "source": [
    "binsize = 50\n",
    "bins = np.arange(0, df2.MonthlyLoanPayment.max()+binsize, binsize)\n",
    "\n",
    "plt.figure(figsize=[8, 5])\n",
    "plt.hist(data = df2, x= 'MonthlyLoanPayment', bins = bins);\n",
    "plt.xlabel('Monthly Loan Payment')\n"
   ]
  },
  {
   "cell_type": "markdown",
   "metadata": {},
   "source": [
    "### Ordinal Variables "
   ]
  },
  {
   "cell_type": "markdown",
   "metadata": {},
   "source": [
    "#### Term, Income Range and Credit Score"
   ]
  },
  {
   "cell_type": "code",
   "execution_count": 12,
   "metadata": {},
   "outputs": [
    {
     "data": {
      "image/png": "[encoded data removed]",
      "text/plain": [
       "<Figure size 864x864 with 3 Axes>"
      ]
     },
     "metadata": {
      "needs_background": "light"
     },
     "output_type": "display_data"
    }
   ],
   "source": [
    "# let's plot all three ordinary variables together to get an idea of each distribution.\n",
    "\n",
    "fig, ax = plt.subplots(nrows=3, figsize = [12,12])\n",
    "\n",
    "default_color = sb.color_palette()[0]\n",
    "sb.countplot(data = df2, x = 'Term', color = default_color, ax = ax[0])\n",
    "sb.countplot(data = df2, x = 'IncomeRange', color = default_color, ax = ax[1])\n",
    "sb.countplot(data = df2, x = 'CreditScore', color = default_color, ax = ax[2])\n",
    "\n",
    "plt.show()"
   ]
  },
  {
   "cell_type": "markdown",
   "metadata": {},
   "source": [
    "### Categorical Variables "
   ]
  },
  {
   "cell_type": "markdown",
   "metadata": {},
   "source": [
    "### Loan Status, Employment Status, Is Borrower Homeowner\t"
   ]
  },
  {
   "cell_type": "code",
   "execution_count": 15,
   "metadata": {},
   "outputs": [
    {
     "data": {
      "text/plain": [
       "(array([ 0,  1,  2,  3,  4,  5,  6,  7,  8,  9, 10, 11]),\n",
       " <a list of 12 Text xticklabel objects>)"
      ]
     },
     "execution_count": 15,
     "metadata": {},
     "output_type": "execute_result"
    },
    {
     "data": {
      "image/png": "[encoded data removed]",
      "text/plain": [
       "<Figure size 864x504 with 1 Axes>"
      ]
     },
     "metadata": {
      "needs_background": "light"
     },
     "output_type": "display_data"
    }
   ],
   "source": [
    "default_color = sb.color_palette()[0]\n",
    "\n",
    "plt.figure(figsize = [12,7])\n",
    "sb.countplot(data = df2, x = 'LoanStatus', color = default_color)\n",
    "plt.xticks(rotation= 45)"
   ]
  },
  {
   "cell_type": "code",
   "execution_count": 37,
   "metadata": {},
   "outputs": [
    {
     "data": {
      "image/png": "[encoded data removed]",
      "text/plain": [
       "<Figure size 864x360 with 2 Axes>"
      ]
     },
     "metadata": {
      "needs_background": "light"
     },
     "output_type": "display_data"
    }
   ],
   "source": [
    "fig, ax = plt.subplots(ncols=2, figsize = [12,5])\n",
    "\n",
    "default_color = sb.color_palette()[0]\n",
    "sb.countplot(data = df2, x = 'EmploymentStatus', color = default_color, ax = ax[0])\n",
    "plt.pie(df2.IsBorrowerHomeowner.value_counts().values, labels = df2.IsBorrowerHomeowner.value_counts().index,\n",
    "        startangle = 90, autopct='%0.01f%%');\n",
    "\n",
    "plt.show()"
   ]
  },
  {
   "cell_type": "markdown",
   "metadata": {},
   "source": [
    "##  "
   ]
  }
 ],
 "metadata": {
  "kernelspec": {
   "display_name": "Python 3",
   "language": "python",
   "name": "python3"
  },
  "language_info": {
   "codemirror_mode": {
    "name": "ipython",
    "version": 3
   },
   "file_extension": ".py",
   "mimetype": "text/x-python",
   "name": "python",
   "nbconvert_exporter": "python",
   "pygments_lexer": "ipython3",
   "version": "3.7.3"
  }
 },
 "nbformat": 4,
 "nbformat_minor": 2
}
